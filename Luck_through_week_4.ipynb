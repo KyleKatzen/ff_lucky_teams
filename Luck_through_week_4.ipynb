{
 "cells": [
  {
   "cell_type": "code",
   "execution_count": 46,
   "metadata": {
    "collapsed": true
   },
   "outputs": [],
   "source": [
    "import random\n",
    "import numpy as np\n",
    "import pandas as pd\n",
    "from scipy.stats import norm"
   ]
  },
  {
   "cell_type": "code",
   "execution_count": 2,
   "metadata": {
    "collapsed": true
   },
   "outputs": [],
   "source": [
    "Bar = [83.44, 67.18, 74.76, 68.18]\n",
    "PPP = [57.52, 70.62, 61.2, 97.60]\n",
    "SCH = [117.54, 102.64, 112, 96.42]\n",
    "Bye = [63.12, 83.32, 55.28, 59.88]\n",
    "TMS = [73.6, 91.24, 80.86, 108.66]\n",
    "G_T = [43.14, 62.42, 70.82, 97.56]\n",
    "T_S = [81.78, 112.6, 69.82, 112.12]\n",
    "DfG = [116.04, 90.38, 135.72, 91.48]\n",
    "Myl = [86.48, 66.24, 101.08, 96.68]\n",
    "BFG = [78.54, 114.1, 82.6, 57.34]\n",
    "T_N = [117.68, 78.86, 95.86, 67.66]\n",
    "TBG = [71.5, 90.66, 115.5, 105.9]"
   ]
  },
  {
   "cell_type": "code",
   "execution_count": 3,
   "metadata": {
    "collapsed": true
   },
   "outputs": [],
   "source": [
    "Teams = {\"Bar\":Bar, \"PPP\":PPP, \"SCH\":SCH, \"Bye\":Bye, \"TMS\":TMS,\\\n",
    "        \"G_T\":G_T, \"T_S\":T_S, \"DfG\":DfG, \"Myl\":Myl, \"BFG\":BFG,\\\n",
    "        \"T_N\":T_N, \"TBG\":TBG}"
   ]
  },
  {
   "cell_type": "code",
   "execution_count": 94,
   "metadata": {},
   "outputs": [],
   "source": [
    "def sim(team, team_dict):\n",
    "    keys = list(team_dict.keys())\n",
    "    keys.remove(str(team))\n",
    "    opponents = np.random.choice(keys,\\\n",
    "                                 size = 4, replace = False)\n",
    "    wins = 0\n",
    "    for i, score in enumerate(team_dict[team]):\n",
    "        if team_dict[opponents[i]][i] < score:\n",
    "            wins += 1\n",
    "    return(wins)"
   ]
  },
  {
   "cell_type": "code",
   "execution_count": 99,
   "metadata": {},
   "outputs": [],
   "source": [
    "def prop_of_reality(team):\n",
    "    results = {}\n",
    "    for i in range(1000000):\n",
    "        results[i] = sim(team, Teams)\n",
    "    SResults = pd.Series(results)\n",
    "    mu = SResults.mean()\n",
    "    std = SResults.std()\n",
    "    p0 = norm.cdf(0, loc=mu, scale = std)\n",
    "    p1 = norm.cdf(1, loc=mu, scale = std)\n",
    "    p2 = norm.cdf(2, loc=mu, scale = std)\n",
    "    p3 = norm.cdf(3, loc=mu, scale = std)\n",
    "    return(pd.Series({\"p0\":p0, \"p1\": p1-p0, \"p2\": p2-p1, \\\n",
    "                     \"p3\":p3-p2, \"p4\":1-p3}))"
   ]
  },
  {
   "cell_type": "code",
   "execution_count": 100,
   "metadata": {},
   "outputs": [],
   "source": [
    "df = pd.DataFrame()"
   ]
  },
  {
   "cell_type": "code",
   "execution_count": 101,
   "metadata": {},
   "outputs": [],
   "source": [
    "for team in Teams.keys():\n",
    "    df[team] = prop_of_reality(str(team))"
   ]
  },
  {
   "cell_type": "code",
   "execution_count": 102,
   "metadata": {},
   "outputs": [
    {
     "data": {
      "text/html": [
       "<div>\n",
       "<style>\n",
       "    .dataframe thead tr:only-child th {\n",
       "        text-align: right;\n",
       "    }\n",
       "\n",
       "    .dataframe thead th {\n",
       "        text-align: left;\n",
       "    }\n",
       "\n",
       "    .dataframe tbody tr th {\n",
       "        vertical-align: top;\n",
       "    }\n",
       "</style>\n",
       "<table border=\"1\" class=\"dataframe\">\n",
       "  <thead>\n",
       "    <tr style=\"text-align: right;\">\n",
       "      <th></th>\n",
       "      <th>Bar</th>\n",
       "      <th>PPP</th>\n",
       "      <th>SCH</th>\n",
       "      <th>Bye</th>\n",
       "      <th>TMS</th>\n",
       "      <th>G_T</th>\n",
       "      <th>T_S</th>\n",
       "      <th>DfG</th>\n",
       "      <th>Myl</th>\n",
       "      <th>BFG</th>\n",
       "      <th>T_N</th>\n",
       "      <th>TBG</th>\n",
       "    </tr>\n",
       "  </thead>\n",
       "  <tbody>\n",
       "    <tr>\n",
       "      <th>p0</th>\n",
       "      <td>0.051445</td>\n",
       "      <td>0.052348</td>\n",
       "      <td>0.000104</td>\n",
       "      <td>0.144621</td>\n",
       "      <td>0.001706</td>\n",
       "      <td>0.086832</td>\n",
       "      <td>0.000059</td>\n",
       "      <td>0.000255</td>\n",
       "      <td>0.007495</td>\n",
       "      <td>0.001812</td>\n",
       "      <td>0.002460</td>\n",
       "      <td>0.000374</td>\n",
       "    </tr>\n",
       "    <tr>\n",
       "      <th>p1</th>\n",
       "      <td>0.254051</td>\n",
       "      <td>0.348984</td>\n",
       "      <td>0.006589</td>\n",
       "      <td>0.510349</td>\n",
       "      <td>0.039686</td>\n",
       "      <td>0.467430</td>\n",
       "      <td>0.008375</td>\n",
       "      <td>0.013586</td>\n",
       "      <td>0.094771</td>\n",
       "      <td>0.070978</td>\n",
       "      <td>0.061271</td>\n",
       "      <td>0.017811</td>\n",
       "    </tr>\n",
       "    <tr>\n",
       "      <th>p2</th>\n",
       "      <td>0.424793</td>\n",
       "      <td>0.467885</td>\n",
       "      <td>0.101390</td>\n",
       "      <td>0.313398</td>\n",
       "      <td>0.252647</td>\n",
       "      <td>0.394545</td>\n",
       "      <td>0.167982</td>\n",
       "      <td>0.162867</td>\n",
       "      <td>0.355973</td>\n",
       "      <td>0.426626</td>\n",
       "      <td>0.342934</td>\n",
       "      <td>0.189647</td>\n",
       "    </tr>\n",
       "    <tr>\n",
       "      <th>p3</th>\n",
       "      <td>0.228432</td>\n",
       "      <td>0.124491</td>\n",
       "      <td>0.391822</td>\n",
       "      <td>0.031175</td>\n",
       "      <td>0.448600</td>\n",
       "      <td>0.050320</td>\n",
       "      <td>0.525995</td>\n",
       "      <td>0.458541</td>\n",
       "      <td>0.396961</td>\n",
       "      <td>0.427389</td>\n",
       "      <td>0.446917</td>\n",
       "      <td>0.471144</td>\n",
       "    </tr>\n",
       "    <tr>\n",
       "      <th>p4</th>\n",
       "      <td>0.041279</td>\n",
       "      <td>0.006293</td>\n",
       "      <td>0.500096</td>\n",
       "      <td>0.000457</td>\n",
       "      <td>0.257360</td>\n",
       "      <td>0.000873</td>\n",
       "      <td>0.297588</td>\n",
       "      <td>0.364750</td>\n",
       "      <td>0.144799</td>\n",
       "      <td>0.073195</td>\n",
       "      <td>0.146418</td>\n",
       "      <td>0.321024</td>\n",
       "    </tr>\n",
       "  </tbody>\n",
       "</table>\n",
       "</div>"
      ],
      "text/plain": [
       "         Bar       PPP       SCH       Bye       TMS       G_T       T_S  \\\n",
       "p0  0.051445  0.052348  0.000104  0.144621  0.001706  0.086832  0.000059   \n",
       "p1  0.254051  0.348984  0.006589  0.510349  0.039686  0.467430  0.008375   \n",
       "p2  0.424793  0.467885  0.101390  0.313398  0.252647  0.394545  0.167982   \n",
       "p3  0.228432  0.124491  0.391822  0.031175  0.448600  0.050320  0.525995   \n",
       "p4  0.041279  0.006293  0.500096  0.000457  0.257360  0.000873  0.297588   \n",
       "\n",
       "         DfG       Myl       BFG       T_N       TBG  \n",
       "p0  0.000255  0.007495  0.001812  0.002460  0.000374  \n",
       "p1  0.013586  0.094771  0.070978  0.061271  0.017811  \n",
       "p2  0.162867  0.355973  0.426626  0.342934  0.189647  \n",
       "p3  0.458541  0.396961  0.427389  0.446917  0.471144  \n",
       "p4  0.364750  0.144799  0.073195  0.146418  0.321024  "
      ]
     },
     "execution_count": 102,
     "metadata": {},
     "output_type": "execute_result"
    }
   ],
   "source": [
    "df"
   ]
  }
 ],
 "metadata": {
  "kernelspec": {
   "display_name": "Python 3",
   "language": "python",
   "name": "python3"
  },
  "language_info": {
   "codemirror_mode": {
    "name": "ipython",
    "version": 3
   },
   "file_extension": ".py",
   "mimetype": "text/x-python",
   "name": "python",
   "nbconvert_exporter": "python",
   "pygments_lexer": "ipython3",
   "version": "3.6.2"
  }
 },
 "nbformat": 4,
 "nbformat_minor": 2
}
